{
 "cells": [
  {
   "cell_type": "code",
   "execution_count": 41,
   "metadata": {},
   "outputs": [],
   "source": [
    "import pandas as pd\n",
    "from datetime import datetime\n",
    "import numpy as np"
   ]
  },
  {
   "cell_type": "code",
   "execution_count": 37,
   "metadata": {},
   "outputs": [],
   "source": [
    "amzn_data = pd.read_csv(\"AMZN_2022.csv\").set_index(\"DateTime\").drop('Unnamed: 0', axis = 1, inplace = False).drop_duplicates()\n",
    "date_index = [datetime.strptime(i, \"%Y-%m-%d %H:%M:%S\") for i in list(amzn_data.index)]\n",
    "amzn_data.index = date_index"
   ]
  },
  {
   "cell_type": "code",
   "execution_count": 59,
   "metadata": {},
   "outputs": [],
   "source": [
    "sl = 78\n",
    "win_len = 6\n",
    "num_trajs = len(unique_dates) * (390/78)\n",
    "#goal - (1015, 78, win_len*5)"
   ]
  },
  {
   "cell_type": "code",
   "execution_count": 39,
   "metadata": {},
   "outputs": [],
   "source": [
    "unique_dates = pd.unique([i.date() for i in date_index])"
   ]
  },
  {
   "cell_type": "code",
   "execution_count": 44,
   "metadata": {},
   "outputs": [],
   "source": [
    "date_locs = np.array([[i.date() == ud for i in date_index] for ud in unique_dates])"
   ]
  },
  {
   "cell_type": "code",
   "execution_count": 63,
   "metadata": {},
   "outputs": [
    {
     "data": {
      "text/html": [
       "<div>\n",
       "<style scoped>\n",
       "    .dataframe tbody tr th:only-of-type {\n",
       "        vertical-align: middle;\n",
       "    }\n",
       "\n",
       "    .dataframe tbody tr th {\n",
       "        vertical-align: top;\n",
       "    }\n",
       "\n",
       "    .dataframe thead th {\n",
       "        text-align: right;\n",
       "    }\n",
       "</style>\n",
       "<table border=\"1\" class=\"dataframe\">\n",
       "  <thead>\n",
       "    <tr style=\"text-align: right;\">\n",
       "      <th></th>\n",
       "      <th>Open</th>\n",
       "      <th>Close</th>\n",
       "      <th>High</th>\n",
       "      <th>Low</th>\n",
       "      <th>Volume</th>\n",
       "    </tr>\n",
       "  </thead>\n",
       "  <tbody>\n",
       "    <tr>\n",
       "      <th>2021-12-31 14:30:00</th>\n",
       "      <td>168.9560</td>\n",
       "      <td>168.5100</td>\n",
       "      <td>169.0660</td>\n",
       "      <td>168.5000</td>\n",
       "      <td>4687</td>\n",
       "    </tr>\n",
       "    <tr>\n",
       "      <th>2021-12-31 14:31:00</th>\n",
       "      <td>168.5250</td>\n",
       "      <td>168.8340</td>\n",
       "      <td>168.9965</td>\n",
       "      <td>168.4000</td>\n",
       "      <td>472</td>\n",
       "    </tr>\n",
       "    <tr>\n",
       "      <th>2021-12-31 14:32:00</th>\n",
       "      <td>168.8400</td>\n",
       "      <td>168.8275</td>\n",
       "      <td>168.9385</td>\n",
       "      <td>168.7500</td>\n",
       "      <td>312</td>\n",
       "    </tr>\n",
       "    <tr>\n",
       "      <th>2021-12-31 14:33:00</th>\n",
       "      <td>168.9980</td>\n",
       "      <td>169.0630</td>\n",
       "      <td>169.2660</td>\n",
       "      <td>168.9690</td>\n",
       "      <td>607</td>\n",
       "    </tr>\n",
       "    <tr>\n",
       "      <th>2021-12-31 14:34:00</th>\n",
       "      <td>168.9420</td>\n",
       "      <td>169.2495</td>\n",
       "      <td>169.3000</td>\n",
       "      <td>168.9420</td>\n",
       "      <td>522</td>\n",
       "    </tr>\n",
       "    <tr>\n",
       "      <th>...</th>\n",
       "      <td>...</td>\n",
       "      <td>...</td>\n",
       "      <td>...</td>\n",
       "      <td>...</td>\n",
       "      <td>...</td>\n",
       "    </tr>\n",
       "    <tr>\n",
       "      <th>2021-12-31 20:55:00</th>\n",
       "      <td>166.5925</td>\n",
       "      <td>166.6020</td>\n",
       "      <td>166.6620</td>\n",
       "      <td>166.5895</td>\n",
       "      <td>2175</td>\n",
       "    </tr>\n",
       "    <tr>\n",
       "      <th>2021-12-31 20:56:00</th>\n",
       "      <td>166.6120</td>\n",
       "      <td>166.8800</td>\n",
       "      <td>166.8925</td>\n",
       "      <td>166.5945</td>\n",
       "      <td>5591</td>\n",
       "    </tr>\n",
       "    <tr>\n",
       "      <th>2021-12-31 20:57:00</th>\n",
       "      <td>166.8850</td>\n",
       "      <td>166.7860</td>\n",
       "      <td>166.9300</td>\n",
       "      <td>166.7495</td>\n",
       "      <td>1764</td>\n",
       "    </tr>\n",
       "    <tr>\n",
       "      <th>2021-12-31 20:58:00</th>\n",
       "      <td>166.7325</td>\n",
       "      <td>166.8615</td>\n",
       "      <td>166.9035</td>\n",
       "      <td>166.7325</td>\n",
       "      <td>3897</td>\n",
       "    </tr>\n",
       "    <tr>\n",
       "      <th>2021-12-31 20:59:00</th>\n",
       "      <td>166.8350</td>\n",
       "      <td>166.7360</td>\n",
       "      <td>166.8685</td>\n",
       "      <td>166.7090</td>\n",
       "      <td>5604</td>\n",
       "    </tr>\n",
       "  </tbody>\n",
       "</table>\n",
       "<p>390 rows × 5 columns</p>\n",
       "</div>"
      ],
      "text/plain": [
       "                         Open     Close      High       Low  Volume\n",
       "2021-12-31 14:30:00  168.9560  168.5100  169.0660  168.5000    4687\n",
       "2021-12-31 14:31:00  168.5250  168.8340  168.9965  168.4000     472\n",
       "2021-12-31 14:32:00  168.8400  168.8275  168.9385  168.7500     312\n",
       "2021-12-31 14:33:00  168.9980  169.0630  169.2660  168.9690     607\n",
       "2021-12-31 14:34:00  168.9420  169.2495  169.3000  168.9420     522\n",
       "...                       ...       ...       ...       ...     ...\n",
       "2021-12-31 20:55:00  166.5925  166.6020  166.6620  166.5895    2175\n",
       "2021-12-31 20:56:00  166.6120  166.8800  166.8925  166.5945    5591\n",
       "2021-12-31 20:57:00  166.8850  166.7860  166.9300  166.7495    1764\n",
       "2021-12-31 20:58:00  166.7325  166.8615  166.9035  166.7325    3897\n",
       "2021-12-31 20:59:00  166.8350  166.7360  166.8685  166.7090    5604\n",
       "\n",
       "[390 rows x 5 columns]"
      ]
     },
     "execution_count": 63,
     "metadata": {},
     "output_type": "execute_result"
    }
   ],
   "source": [
    "amzn_data[date_locs[0]]"
   ]
  },
  {
   "cell_type": "code",
   "execution_count": 83,
   "metadata": {},
   "outputs": [],
   "source": [
    "def split_trajs(npdata):\n",
    "    inputs_window = np.array([npdata[i-win_len:i] for i in range(win_len,len(npdata))])    \n",
    "    if len(npdata) == 390:\n",
    "        return npdata.reshape(5,78,5)\n",
    "    else:\n",
    "        npdata_filt = npdata[:78*4]\n",
    "        return npdata_filt.reshape(4,78,5)"
   ]
  },
  {
   "cell_type": "code",
   "execution_count": 84,
   "metadata": {},
   "outputs": [],
   "source": [
    "trajs = np.array([i for j in [split_trajs(amzn_data.loc[date_locs[udidx]].to_numpy()) for udidx in range(len(unique_dates))] for i in j])"
   ]
  },
  {
   "cell_type": "code",
   "execution_count": null,
   "metadata": {},
   "outputs": [],
   "source": [
    "inputs_window = np.array([trajs[i-win_len:i] for i in range(win_len,len(trajs))])"
   ]
  },
  {
   "cell_type": "code",
   "execution_count": 85,
   "metadata": {},
   "outputs": [
    {
     "data": {
      "text/plain": [
       "(1010, 78, 5)"
      ]
     },
     "execution_count": 85,
     "metadata": {},
     "output_type": "execute_result"
    }
   ],
   "source": [
    "trajs.shape"
   ]
  },
  {
   "cell_type": "code",
   "execution_count": 87,
   "metadata": {},
   "outputs": [
    {
     "data": {
      "text/plain": [
       "Rolling [window=6,center=False,axis=0,method=single]"
      ]
     },
     "execution_count": 87,
     "metadata": {},
     "output_type": "execute_result"
    }
   ],
   "source": [
    "amzn_data.rolling(win_len, win_type=None)"
   ]
  },
  {
   "cell_type": "code",
   "execution_count": null,
   "metadata": {},
   "outputs": [],
   "source": []
  },
  {
   "cell_type": "code",
   "execution_count": 60,
   "metadata": {},
   "outputs": [],
   "source": [
    "# [(ud, len(amzn_data.loc[date_locs[udidx]])) for udidx, ud in enumerate(unique_dates) if len(amzn_data.loc[date_locs[udidx]]) != 390]"
   ]
  },
  {
   "cell_type": "code",
   "execution_count": null,
   "metadata": {},
   "outputs": [],
   "source": []
  }
 ],
 "metadata": {
  "kernelspec": {
   "display_name": "Python 3.8.3 ('pfrnnenv': venv)",
   "language": "python",
   "name": "python3"
  },
  "language_info": {
   "codemirror_mode": {
    "name": "ipython",
    "version": 3
   },
   "file_extension": ".py",
   "mimetype": "text/x-python",
   "name": "python",
   "nbconvert_exporter": "python",
   "pygments_lexer": "ipython3",
   "version": "3.8.3"
  },
  "orig_nbformat": 4,
  "vscode": {
   "interpreter": {
    "hash": "0a0f0a7b7ed05866b07d6fb8557e78a103d73f39498a82dca92fe4225be41348"
   }
  }
 },
 "nbformat": 4,
 "nbformat_minor": 2
}
