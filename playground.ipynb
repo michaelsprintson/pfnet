{
 "cells": [
  {
   "cell_type": "code",
   "execution_count": 1,
   "metadata": {},
   "outputs": [],
   "source": [
    "%load_ext autoreload\n",
    "%autoreload 2"
   ]
  },
  {
   "cell_type": "code",
   "execution_count": 2,
   "metadata": {},
   "outputs": [],
   "source": [
    "from arguments import parse_args\n",
    "from main import train, get_data\n",
    "from dataset import LocalizationDataset\n",
    "from torch.utils.data import DataLoader\n",
    "import os\n",
    "from cust_model import Tracker, TrackingDataset\n",
    "import pandas as pd\n",
    "import numpy as np\n",
    "import torch"
   ]
  },
  {
   "cell_type": "code",
   "execution_count": 3,
   "metadata": {},
   "outputs": [],
   "source": [
    "amzn_data = pd.read_csv(\"AMZN28.csv\").set_index(\"DateTime\").drop('Unnamed: 0', axis = 1, inplace = False)"
   ]
  },
  {
   "cell_type": "code",
   "execution_count": 4,
   "metadata": {},
   "outputs": [],
   "source": [
    "class AttrDict(dict):\n",
    "    def __init__(self, *args, **kwargs):\n",
    "        super(AttrDict, self).__init__(*args, **kwargs)\n",
    "        self.__dict__ = self\n",
    "args = AttrDict({\"num_trajs\":1000,\n",
    "        \"sl\":100,\n",
    "        \"batch_size\":128,\n",
    "        \"num_particles\":30,\n",
    "        \"window_length\":6,\n",
    "        \"h\":64,\n",
    "        \"emb_obs\":23,\n",
    "        \"emb_act\":32,\n",
    "        \"dropout\":0.5,\n",
    "        \"obs_num\":5,\n",
    "        \"resamp_alpha\":0.5,\n",
    "        \"bp_length\":10,\n",
    "        \"clip\":1.0,\n",
    "        \"lr\":0.0005,\n",
    "        \"bpdecay\":0.1})"
   ]
  },
  {
   "cell_type": "code",
   "execution_count": 5,
   "metadata": {},
   "outputs": [],
   "source": [
    "amznnp = amzn_data.to_numpy()"
   ]
  },
  {
   "cell_type": "code",
   "execution_count": 6,
   "metadata": {},
   "outputs": [],
   "source": [
    "inlen = args.sl*(len(amznnp) // args.sl)\n",
    "inputs_window = np.array([amznnp[i-args.window_length:i] for i in range(args.window_length,len(amznnp))])[:inlen]\n",
    "outputs = amznnp[args.window_length:inlen+args.window_length,0]"
   ]
  },
  {
   "cell_type": "code",
   "execution_count": 7,
   "metadata": {},
   "outputs": [],
   "source": [
    "inputs_prebatch = inputs_window.reshape(inlen // args.sl, args.sl, -1)\n",
    "outputs_prebatch = outputs.reshape(inlen // args.sl, args.sl)"
   ]
  },
  {
   "cell_type": "code",
   "execution_count": 8,
   "metadata": {},
   "outputs": [],
   "source": [
    "train_dataset = TrackingDataset(inputs_prebatch, outputs_prebatch)\n",
    "train_loader = DataLoader(train_dataset, batch_size=args.batch_size,\n",
    "                            num_workers=8, pin_memory=True, shuffle=False)\n",
    "model = Tracker(args)\n",
    "optimizer = torch.optim.RMSprop(model.parameters(), lr=args.lr)"
   ]
  },
  {
   "cell_type": "code",
   "execution_count": 9,
   "metadata": {},
   "outputs": [
    {
     "name": "stdout",
     "output_type": "stream",
     "text": [
      "starting epochs\n"
     ]
    },
    {
     "name": "stderr",
     "output_type": "stream",
     "text": [
      "  0%|          | 0/1 [00:00<?, ?it/s]"
     ]
    },
    {
     "name": "stdout",
     "output_type": "stream",
     "text": [
      "going to train\n",
      "starting iterations\n"
     ]
    },
    {
     "name": "stderr",
     "output_type": "stream",
     "text": [
      "/Users/michaelsprintson/Documents/nosync.nosync/pfrnns/cust_model.py:97: UserWarning: Using a target size (torch.Size([128, 100])) that is different to the input size (torch.Size([128, 100, 1])). This will likely lead to incorrect results due to broadcasting. Please ensure they have the same size.\n",
      "  l2_pred_loss = torch.nn.functional.mse_loss(pred, gt_normalized, reduction='none') * bpdecay_params\n",
      "  0%|          | 0/1 [00:24<?, ?it/s]\n"
     ]
    },
    {
     "ename": "RuntimeError",
     "evalue": "The size of tensor a (100) must match the size of tensor b (128) at non-singleton dimension 1",
     "output_type": "error",
     "traceback": [
      "\u001b[0;31m---------------------------------------------------------------------------\u001b[0m",
      "\u001b[0;31mRuntimeError\u001b[0m                              Traceback (most recent call last)",
      "Cell \u001b[0;32mIn[9], line 16\u001b[0m\n\u001b[1;32m     14\u001b[0m output, window \u001b[39m=\u001b[39m data\n\u001b[1;32m     15\u001b[0m model\u001b[39m.\u001b[39mzero_grad()\n\u001b[0;32m---> 16\u001b[0m loss, log_loss, particle_pred \u001b[39m=\u001b[39m model\u001b[39m.\u001b[39;49mstep(\n\u001b[1;32m     17\u001b[0m     window, output, args)\n\u001b[1;32m     18\u001b[0m loss\u001b[39m.\u001b[39mbackward()\n\u001b[1;32m     20\u001b[0m \u001b[39mif\u001b[39;00m args\u001b[39m.\u001b[39mclip \u001b[39m>\u001b[39m \u001b[39m0\u001b[39m:\n",
      "File \u001b[0;32m~/Documents/nosync.nosync/pfrnns/cust_model.py:97\u001b[0m, in \u001b[0;36mTracker.step\u001b[0;34m(self, prev_window, gt_pos, args)\u001b[0m\n\u001b[1;32m     94\u001b[0m bpdecay_params \u001b[39m=\u001b[39m bpdecay_params\u001b[39m.\u001b[39munsqueeze(\u001b[39m2\u001b[39m)\n\u001b[1;32m     95\u001b[0m pred \u001b[39m=\u001b[39m pred\u001b[39m.\u001b[39mtranspose(\u001b[39m0\u001b[39m, \u001b[39m1\u001b[39m)\u001b[39m.\u001b[39mcontiguous()\n\u001b[0;32m---> 97\u001b[0m l2_pred_loss \u001b[39m=\u001b[39m torch\u001b[39m.\u001b[39;49mnn\u001b[39m.\u001b[39;49mfunctional\u001b[39m.\u001b[39;49mmse_loss(pred, gt_normalized, reduction\u001b[39m=\u001b[39;49m\u001b[39m'\u001b[39;49m\u001b[39mnone\u001b[39;49m\u001b[39m'\u001b[39;49m) \u001b[39m*\u001b[39m bpdecay_params\n\u001b[1;32m     98\u001b[0m l1_pred_loss \u001b[39m=\u001b[39m torch\u001b[39m.\u001b[39mnn\u001b[39m.\u001b[39mfunctional\u001b[39m.\u001b[39ml1_loss(pred, gt_normalized, reduction\u001b[39m=\u001b[39m\u001b[39m'\u001b[39m\u001b[39mnone\u001b[39m\u001b[39m'\u001b[39m) \u001b[39m*\u001b[39m bpdecay_params\n\u001b[1;32m    100\u001b[0m l2_loss \u001b[39m=\u001b[39m torch\u001b[39m.\u001b[39msum(l2_pred_loss)\n",
      "File \u001b[0;32m~/Documents/nosync.nosync/pfrnns/pfrnnenv/lib/python3.8/site-packages/torch/nn/functional.py:3291\u001b[0m, in \u001b[0;36mmse_loss\u001b[0;34m(input, target, size_average, reduce, reduction)\u001b[0m\n\u001b[1;32m   3288\u001b[0m \u001b[39mif\u001b[39;00m size_average \u001b[39mis\u001b[39;00m \u001b[39mnot\u001b[39;00m \u001b[39mNone\u001b[39;00m \u001b[39mor\u001b[39;00m reduce \u001b[39mis\u001b[39;00m \u001b[39mnot\u001b[39;00m \u001b[39mNone\u001b[39;00m:\n\u001b[1;32m   3289\u001b[0m     reduction \u001b[39m=\u001b[39m _Reduction\u001b[39m.\u001b[39mlegacy_get_string(size_average, reduce)\n\u001b[0;32m-> 3291\u001b[0m expanded_input, expanded_target \u001b[39m=\u001b[39m torch\u001b[39m.\u001b[39;49mbroadcast_tensors(\u001b[39minput\u001b[39;49m, target)\n\u001b[1;32m   3292\u001b[0m \u001b[39mreturn\u001b[39;00m torch\u001b[39m.\u001b[39m_C\u001b[39m.\u001b[39m_nn\u001b[39m.\u001b[39mmse_loss(expanded_input, expanded_target, _Reduction\u001b[39m.\u001b[39mget_enum(reduction))\n",
      "File \u001b[0;32m~/Documents/nosync.nosync/pfrnns/pfrnnenv/lib/python3.8/site-packages/torch/functional.py:74\u001b[0m, in \u001b[0;36mbroadcast_tensors\u001b[0;34m(*tensors)\u001b[0m\n\u001b[1;32m     72\u001b[0m \u001b[39mif\u001b[39;00m has_torch_function(tensors):\n\u001b[1;32m     73\u001b[0m     \u001b[39mreturn\u001b[39;00m handle_torch_function(broadcast_tensors, tensors, \u001b[39m*\u001b[39mtensors)\n\u001b[0;32m---> 74\u001b[0m \u001b[39mreturn\u001b[39;00m _VF\u001b[39m.\u001b[39;49mbroadcast_tensors(tensors)\n",
      "\u001b[0;31mRuntimeError\u001b[0m: The size of tensor a (100) must match the size of tensor b (128) at non-singleton dimension 1"
     ]
    }
   ],
   "source": [
    "cnt = 0\n",
    "best_eval = 1000\n",
    "from tqdm import tqdm\n",
    "\n",
    "print(\"starting epochs\")\n",
    "for epoch in tqdm(range(1)):\n",
    "    print(\"going to train\")\n",
    "    model.train() #just a toggle switch\n",
    "\n",
    "    print(\"starting iterations\")\n",
    "    for iteration, data in enumerate(train_loader):\n",
    "        cnt = cnt + 1\n",
    "\n",
    "        output, window = data\n",
    "        model.zero_grad()\n",
    "        loss, log_loss, particle_pred = model.step(\n",
    "            window, output, args)\n",
    "        loss.backward()\n",
    "\n",
    "        if args.clip > 0:\n",
    "            torch.nn.utils.clip_grad_norm_(model.parameters(), args.clip)\n",
    "        optimizer.step()"
   ]
  },
  {
   "cell_type": "code",
   "execution_count": null,
   "metadata": {},
   "outputs": [],
   "source": []
  }
 ],
 "metadata": {
  "kernelspec": {
   "display_name": "Python 3.8.3 ('pfrnnenv': venv)",
   "language": "python",
   "name": "python3"
  },
  "language_info": {
   "codemirror_mode": {
    "name": "ipython",
    "version": 3
   },
   "file_extension": ".py",
   "mimetype": "text/x-python",
   "name": "python",
   "nbconvert_exporter": "python",
   "pygments_lexer": "ipython3",
   "version": "3.8.3"
  },
  "orig_nbformat": 4,
  "vscode": {
   "interpreter": {
    "hash": "0a0f0a7b7ed05866b07d6fb8557e78a103d73f39498a82dca92fe4225be41348"
   }
  }
 },
 "nbformat": 4,
 "nbformat_minor": 2
}
