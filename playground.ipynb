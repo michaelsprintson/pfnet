{
 "cells": [
  {
   "cell_type": "code",
   "execution_count": 1,
   "metadata": {},
   "outputs": [],
   "source": [
    "%load_ext autoreload\n",
    "%autoreload 2"
   ]
  },
  {
   "cell_type": "code",
   "execution_count": 2,
   "metadata": {},
   "outputs": [],
   "source": [
    "from arguments import parse_args\n",
    "from main import train, get_data\n",
    "from dataset import LocalizationDataset\n",
    "from torch.utils.data import DataLoader\n",
    "import os\n",
    "from cust_model import Tracker, TrackingDataset\n",
    "import pandas as pd\n",
    "import numpy as np\n",
    "import torch\n",
    "import matplotlib.pyplot as plt"
   ]
  },
  {
   "cell_type": "code",
   "execution_count": 3,
   "metadata": {},
   "outputs": [],
   "source": [
    "from import_data import grab_amazon_data\n",
    "inputs_prebatch, outputs_prebatch = grab_amazon_data()"
   ]
  },
  {
   "cell_type": "code",
   "execution_count": null,
   "metadata": {},
   "outputs": [],
   "source": [
    "class AttrDict(dict):\n",
    "    def __init__(self, *args, **kwargs):\n",
    "        super(AttrDict, self).__init__(*args, **kwargs)\n",
    "        self.__dict__ = self\n",
    "args = AttrDict({\"num_trajs\":807,\n",
    "        \"sl\":96,\n",
    "        \"batch_size\":128,\n",
    "        \"num_particles\":30,\n",
    "        \"window_length\":6,\n",
    "        \"h\":64,\n",
    "        \"emb_obs\":23,\n",
    "        \"emb_act\":32,\n",
    "        \"dropout\":0.1, #we changed this from 0.5\n",
    "        \"obs_num\":5,\n",
    "        \"resamp_alpha\":0.5,\n",
    "        \"bp_length\":10, \n",
    "        \"clip\":1.0,\n",
    "        \"lr\":0.0005,\n",
    "        \"bpdecay\":0.1,\n",
    "        \"l2_weight\":1.0,\n",
    "        \"l1_weight\":0.0})"
   ]
  },
  {
   "cell_type": "code",
   "execution_count": null,
   "metadata": {},
   "outputs": [],
   "source": [
    "from cust_rnn import SimpleRNN"
   ]
  },
  {
   "cell_type": "code",
   "execution_count": null,
   "metadata": {},
   "outputs": [],
   "source": [
    "train_dataset = TrackingDataset(inputs_prebatch, outputs_prebatch)\n",
    "train_loader = DataLoader(train_dataset, batch_size=args.batch_size,\n",
    "                            num_workers=8, pin_memory=True, shuffle=False, drop_last = True)\n",
    "# model = Tracker(args)\n",
    "model = SimpleRNN(args)\n",
    "optimizer = torch.optim.RMSprop(model.parameters(), lr=args.lr)"
   ]
  },
  {
   "cell_type": "code",
   "execution_count": null,
   "metadata": {},
   "outputs": [
    {
     "name": "stdout",
     "output_type": "stream",
     "text": [
      "starting epochs\n"
     ]
    },
    {
     "name": "stderr",
     "output_type": "stream",
     "text": [
      "  0%|          | 0/10 [00:00<?, ?it/s]/Users/michaelsprintson/Documents/nosync.nosync/pfrnns/cust_rnn.py:96: UserWarning: Using a target size (torch.Size([96, 128])) that is different to the input size (torch.Size([1, 128])). This will likely lead to incorrect results due to broadcasting. Please ensure they have the same size.\n",
      "  l2_pred_loss = torch.nn.functional.mse_loss(pred, gt_normalized, reduction='none') * bpdecay_params\n",
      "/Users/michaelsprintson/Documents/nosync.nosync/pfrnns/cust_rnn.py:97: UserWarning: Using a target size (torch.Size([96, 128])) that is different to the input size (torch.Size([1, 128])). This will likely lead to incorrect results due to broadcasting. Please ensure they have the same size.\n",
      "  l1_pred_loss = torch.nn.functional.l1_loss(pred, gt_normalized, reduction='none') * bpdecay_params\n",
      "/Users/michaelsprintson/Documents/nosync.nosync/pfrnns/cust_rnn.py:127: UserWarning: Using a target size (torch.Size([96])) that is different to the input size (torch.Size([1])). This will likely lead to incorrect results due to broadcasting. Please ensure they have the same size.\n",
      "  loss_last = torch.nn.functional.mse_loss(pred[:, -1], gt_normalized[:, -1])\n",
      " 40%|████      | 4/10 [01:53<02:50, 28.34s/it]"
     ]
    }
   ],
   "source": [
    "cnt = 0\n",
    "best_eval = 1000\n",
    "from tqdm import tqdm\n",
    "\n",
    "losses = []\n",
    "\n",
    "print(\"starting epochs\")\n",
    "for epoch in tqdm(range(10)):\n",
    "    per_e_loss = []\n",
    "    # print(\"going to train\")\n",
    "    model.train() #just a toggle switch\n",
    "\n",
    "    # print(\"starting iterations\")\n",
    "    for iteration, data in enumerate(train_loader):\n",
    "        cnt = cnt + 1\n",
    "\n",
    "        output, window = data\n",
    "        model.zero_grad()\n",
    "        loss, log_loss, particle_pred = model.step(\n",
    "            window, output, args)\n",
    "        loss.backward()\n",
    "\n",
    "        if args.clip > 0:\n",
    "            torch.nn.utils.clip_grad_norm_(model.parameters(), args.clip)\n",
    "        optimizer.step()\n",
    "\n",
    "        loss_last = log_loss.to('cpu').detach().numpy()\n",
    "        loss_all = loss.to('cpu').detach().numpy()\n",
    "        per_e_loss.append([loss_last, loss_all])\n",
    "    losses.append(per_e_loss)\n"
   ]
  },
  {
   "cell_type": "code",
   "execution_count": null,
   "metadata": {},
   "outputs": [],
   "source": []
  },
  {
   "cell_type": "code",
   "execution_count": null,
   "metadata": {},
   "outputs": [],
   "source": []
  },
  {
   "cell_type": "code",
   "execution_count": null,
   "metadata": {},
   "outputs": [],
   "source": []
  },
  {
   "cell_type": "code",
   "execution_count": null,
   "metadata": {},
   "outputs": [],
   "source": [
    "fig, (ax0,ax1) = plt.subplots(1,2,figsize = (10,5))\n",
    "for lidx, lnp in enumerate(losses):\n",
    "    lnp = np.array(lnp)\n",
    "    ax0.plot(lnp[:,0], label = f\"{lidx}_loss\")\n",
    "    ax1.plot(lnp[:,1], label = f\"{lidx}_loss_last\")"
   ]
  },
  {
   "cell_type": "code",
   "execution_count": null,
   "metadata": {},
   "outputs": [],
   "source": []
  }
 ],
 "metadata": {
  "kernelspec": {
   "display_name": "Python 3.8.3 ('pfrnnenv': venv)",
   "language": "python",
   "name": "python3"
  },
  "language_info": {
   "codemirror_mode": {
    "name": "ipython",
    "version": 3
   },
   "file_extension": ".py",
   "mimetype": "text/x-python",
   "name": "python",
   "nbconvert_exporter": "python",
   "pygments_lexer": "ipython3",
   "version": "3.8.3"
  },
  "orig_nbformat": 4,
  "vscode": {
   "interpreter": {
    "hash": "0a0f0a7b7ed05866b07d6fb8557e78a103d73f39498a82dca92fe4225be41348"
   }
  }
 },
 "nbformat": 4,
 "nbformat_minor": 2
}
