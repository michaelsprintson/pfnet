{
 "cells": [
  {
   "cell_type": "code",
   "execution_count": 1,
   "metadata": {},
   "outputs": [],
   "source": [
    "%load_ext autoreload\n",
    "%autoreload 2"
   ]
  },
  {
   "cell_type": "code",
   "execution_count": 2,
   "metadata": {},
   "outputs": [],
   "source": [
    "from arguments import parse_args\n",
    "from main import train, get_data\n",
    "from dataset import LocalizationDataset\n",
    "from torch.utils.data import DataLoader\n",
    "import os\n",
    "from cust_model import Tracker, TrackingDataset\n",
    "import pandas as pd\n",
    "import numpy as np\n",
    "import torch\n",
    "import matplotlib.pyplot as plt"
   ]
  },
  {
   "cell_type": "code",
   "execution_count": 3,
   "metadata": {},
   "outputs": [],
   "source": [
    "amzn_data = pd.read_csv(\"AMZN28.csv\").set_index(\"DateTime\").drop('Unnamed: 0', axis = 1, inplace = False)"
   ]
  },
  {
   "cell_type": "code",
   "execution_count": 4,
   "metadata": {},
   "outputs": [],
   "source": [
    "class AttrDict(dict):\n",
    "    def __init__(self, *args, **kwargs):\n",
    "        super(AttrDict, self).__init__(*args, **kwargs)\n",
    "        self.__dict__ = self\n",
    "args = AttrDict({\"num_trajs\":1000,\n",
    "        \"sl\":100,\n",
    "        \"batch_size\":128,\n",
    "        \"num_particles\":30,\n",
    "        \"window_length\":6,\n",
    "        \"h\":64,\n",
    "        \"emb_obs\":23,\n",
    "        \"emb_act\":32,\n",
    "        \"dropout\":0.1, #we changed this from 0.5\n",
    "        \"obs_num\":5,\n",
    "        \"resamp_alpha\":0.5,\n",
    "        \"bp_length\":10, \n",
    "        \"clip\":1.0,\n",
    "        \"lr\":0.0005,\n",
    "        \"bpdecay\":0.1,\n",
    "        \"l2_weight\":1.0,\n",
    "        \"l1_weight\":0.0})"
   ]
  },
  {
   "cell_type": "code",
   "execution_count": 5,
   "metadata": {},
   "outputs": [],
   "source": [
    "amznnp = amzn_data.to_numpy()"
   ]
  },
  {
   "cell_type": "code",
   "execution_count": 6,
   "metadata": {},
   "outputs": [],
   "source": [
    "inlen = args.sl*(len(amznnp) // args.sl)\n",
    "inputs_window = np.array([amznnp[i-args.window_length:i] for i in range(args.window_length,len(amznnp))])[:inlen]\n",
    "outputs = amznnp[args.window_length:inlen+args.window_length,1]"
   ]
  },
  {
   "cell_type": "code",
   "execution_count": 7,
   "metadata": {},
   "outputs": [],
   "source": [
    "inputs_prebatch = inputs_window.reshape(inlen // args.sl, args.sl, -1)\n",
    "outputs_prebatch = outputs.reshape(inlen // args.sl, args.sl)"
   ]
  },
  {
   "cell_type": "code",
   "execution_count": 8,
   "metadata": {},
   "outputs": [],
   "source": [
    "train_dataset = TrackingDataset(inputs_prebatch, outputs_prebatch)\n",
    "train_loader = DataLoader(train_dataset, batch_size=args.batch_size,\n",
    "                            num_workers=8, pin_memory=True, shuffle=False, drop_last = True)\n",
    "model = Tracker(args)\n",
    "optimizer = torch.optim.RMSprop(model.parameters(), lr=args.lr)"
   ]
  },
  {
   "cell_type": "code",
   "execution_count": null,
   "metadata": {},
   "outputs": [],
   "source": []
  },
  {
   "cell_type": "code",
   "execution_count": null,
   "metadata": {},
   "outputs": [],
   "source": [
    "cnt = 0\n",
    "best_eval = 1000\n",
    "from tqdm import tqdm\n",
    "\n",
    "losses = []\n",
    "\n",
    "print(\"starting epochs\")\n",
    "for epoch in tqdm(range(10)):\n",
    "    # print(\"going to train\")\n",
    "    model.train() #just a toggle switch\n",
    "\n",
    "    # print(\"starting iterations\")\n",
    "    for iteration, data in enumerate(train_loader):\n",
    "        cnt = cnt + 1\n",
    "\n",
    "        output, window = data\n",
    "        model.zero_grad()\n",
    "        loss, log_loss, particle_pred = model.step(\n",
    "            window, output, args)\n",
    "        loss.backward()\n",
    "\n",
    "        if args.clip > 0:\n",
    "            torch.nn.utils.clip_grad_norm_(model.parameters(), args.clip)\n",
    "        optimizer.step()\n",
    "\n",
    "        loss_last = log_loss.to('cpu').detach().numpy()\n",
    "        loss_all = loss.to('cpu').detach().numpy()\n",
    "        losses.append([loss_last, loss_all])\n"
   ]
  },
  {
   "cell_type": "code",
   "execution_count": 15,
   "metadata": {},
   "outputs": [
    {
     "data": {
      "text/plain": [
       "array([[   9609.085, 1121378.   ],\n",
       "       [   8766.981, 1153893.9  ],\n",
       "       [   9591.403, 1118693.4  ],\n",
       "       [   8742.977, 1150986.9  ],\n",
       "       [   9566.325, 1115490.4  ],\n",
       "       [   8726.84 , 1148653.4  ],\n",
       "       [   9553.358, 1113736.8  ],\n",
       "       [   8711.567, 1147080.4  ],\n",
       "       [   9543.541, 1112669.1  ],\n",
       "       [   8703.682, 1146204.   ],\n",
       "       [   9536.286, 1111679.4  ],\n",
       "       [   8698.302, 1145416.2  ],\n",
       "       [   9529.914, 1111272.   ],\n",
       "       [   8696.528, 1145081.5  ],\n",
       "       [   9526.849, 1110863.8  ],\n",
       "       [   8691.089, 1144550.   ],\n",
       "       [   9525.618, 1110515.5  ],\n",
       "       [   8689.87 , 1144356.2  ],\n",
       "       [   9520.51 , 1110336.6  ],\n",
       "       [   8688.55 , 1144201.1  ]], dtype=float32)"
      ]
     },
     "execution_count": 15,
     "metadata": {},
     "output_type": "execute_result"
    }
   ],
   "source": [
    "lnp"
   ]
  },
  {
   "cell_type": "code",
   "execution_count": 16,
   "metadata": {},
   "outputs": [
    {
     "data": {
      "text/plain": [
       "[<matplotlib.lines.Line2D at 0x7fd00023c4c0>]"
      ]
     },
     "execution_count": 16,
     "metadata": {},
     "output_type": "execute_result"
    },
    {
     "data": {
      "image/png": "[encoded data removed]",
      "text/plain": [
       "<Figure size 1000x500 with 2 Axes>"
      ]
     },
     "metadata": {},
     "output_type": "display_data"
    }
   ],
   "source": [
    "lnp = np.array(losses)\n",
    "fig, (ax0,ax1) = plt.subplots(1,2,figsize = (10,5))\n",
    "ax0.plot(lnp[::2,0])\n",
    "ax1.plot(lnp[1::2,1])"
   ]
  },
  {
   "cell_type": "code",
   "execution_count": null,
   "metadata": {},
   "outputs": [],
   "source": []
  }
 ],
 "metadata": {
  "kernelspec": {
   "display_name": "Python 3.8.3 ('pfrnnenv': venv)",
   "language": "python",
   "name": "python3"
  },
  "language_info": {
   "codemirror_mode": {
    "name": "ipython",
    "version": 3
   },
   "file_extension": ".py",
   "mimetype": "text/x-python",
   "name": "python",
   "nbconvert_exporter": "python",
   "pygments_lexer": "ipython3",
   "version": "3.8.3"
  },
  "orig_nbformat": 4,
  "vscode": {
   "interpreter": {
    "hash": "0a0f0a7b7ed05866b07d6fb8557e78a103d73f39498a82dca92fe4225be41348"
   }
  }
 },
 "nbformat": 4,
 "nbformat_minor": 2
}
