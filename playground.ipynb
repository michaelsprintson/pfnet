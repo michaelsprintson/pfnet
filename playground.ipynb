{
 "cells": [
  {
   "cell_type": "code",
   "execution_count": 1,
   "metadata": {},
   "outputs": [],
   "source": [
    "%load_ext autoreload\n",
    "%autoreload 2"
   ]
  },
  {
   "cell_type": "code",
   "execution_count": 79,
   "metadata": {},
   "outputs": [],
   "source": [
    "from arguments import parse_args\n",
    "from main import train, get_data\n",
    "from dataset import LocalizationDataset\n",
    "from torch.utils.data import DataLoader\n",
    "import os\n",
    "from cust_model import Tracker"
   ]
  },
  {
   "cell_type": "code",
   "execution_count": 93,
   "metadata": {},
   "outputs": [],
   "source": [
    "class AttrDict(dict):\n",
    "    def __init__(self, *args, **kwargs):\n",
    "        super(AttrDict, self).__init__(*args, **kwargs)\n",
    "        self.__dict__ = self\n",
    "args = AttrDict({\"num_trajs\":1000,\n",
    "        \"sl\":100,\n",
    "        \"batch_size\":128,\n",
    "        \"num_particles\":30,\n",
    "        \"window_length\":4,\n",
    "        \"h\":64,\n",
    "        \"emb_obs\":23,\n",
    "        \"emb_act\":32,\n",
    "        \"dropout\":0.5,\n",
    "        \"obs_num\":5,\n",
    "        \"resamp_alpha\":0.5,\n",
    "        \"bp_length\":10})"
   ]
  },
  {
   "cell_type": "code",
   "execution_count": 94,
   "metadata": {},
   "outputs": [
    {
     "name": "stdout",
     "output_type": "stream",
     "text": [
      "Load data failed, generating training data\n"
     ]
    },
    {
     "name": "stderr",
     "output_type": "stream",
     "text": [
      "100%|██████████| 1000/1000 [00:04<00:00, 241.08it/s]\n",
      "100%|██████████| 100/100 [00:00<00:00, 237.70it/s]"
     ]
    },
    {
     "name": "stdout",
     "output_type": "stream",
     "text": [
      "train data generated\n",
      "eval data generated\n"
     ]
    },
    {
     "name": "stderr",
     "output_type": "stream",
     "text": [
      "\n"
     ]
    }
   ],
   "source": [
    "train_data, eval_data = get_data(args)\n",
    "train_dataset = LocalizationDataset(train_data)\n",
    "\n",
    "train_loader = DataLoader(train_dataset, batch_size=args.batch_size,\n",
    "                            num_workers=8, pin_memory=True, shuffle=True)\n",
    "o = train_loader.__iter__()._next_data()"
   ]
  },
  {
   "cell_type": "code",
   "execution_count": 95,
   "metadata": {},
   "outputs": [
    {
     "data": {
      "text/plain": [
       "8"
      ]
     },
     "execution_count": 95,
     "metadata": {},
     "output_type": "execute_result"
    }
   ],
   "source": [
    "train_loader.__len__()"
   ]
  },
  {
   "cell_type": "code",
   "execution_count": 90,
   "metadata": {},
   "outputs": [],
   "source": [
    "model = Tracker(args)"
   ]
  },
  {
   "cell_type": "code",
   "execution_count": null,
   "metadata": {},
   "outputs": [],
   "source": [
    "cnt = 0\n",
    "best_eval = 1000\n",
    "from tqdm import tqdm\n",
    "\n",
    "print(\"starting epochs\")\n",
    "for epoch in tqdm(range(1)):\n",
    "    print(\"going to train\")\n",
    "    model.train() #just a toggle switch\n",
    "\n",
    "    print(\"starting iterations\")\n",
    "    for iteration, data in enumerate(train_loader):\n",
    "        print(\"in iteration\")\n",
    "        cnt = cnt + 1\n",
    "\n",
    "        env_map, obs, pos, action = data"
   ]
  }
 ],
 "metadata": {
  "kernelspec": {
   "display_name": "Python 3.8.3 ('pfrnnenv': venv)",
   "language": "python",
   "name": "python3"
  },
  "language_info": {
   "codemirror_mode": {
    "name": "ipython",
    "version": 3
   },
   "file_extension": ".py",
   "mimetype": "text/x-python",
   "name": "python",
   "nbconvert_exporter": "python",
   "pygments_lexer": "ipython3",
   "version": "3.8.3"
  },
  "orig_nbformat": 4,
  "vscode": {
   "interpreter": {
    "hash": "0a0f0a7b7ed05866b07d6fb8557e78a103d73f39498a82dca92fe4225be41348"
   }
  }
 },
 "nbformat": 4,
 "nbformat_minor": 2
}
