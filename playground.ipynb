{
 "cells": [
  {
   "cell_type": "code",
   "execution_count": null,
   "metadata": {},
   "outputs": [],
   "source": [
    "%load_ext autoreload\n",
    "%autoreload 2"
   ]
  },
  {
   "cell_type": "code",
   "execution_count": null,
   "metadata": {},
   "outputs": [],
   "source": [
    "from torch.utils.data import DataLoader\n",
    "import os\n",
    "from cust_model import Tracker, TrackingDataset\n",
    "import pandas as pd\n",
    "import numpy as np\n",
    "import torch\n",
    "import matplotlib.pyplot as plt"
   ]
  },
  {
   "cell_type": "code",
   "execution_count": null,
   "metadata": {},
   "outputs": [],
   "source": [
    "from import_data import grab_amazon_data\n",
    "inputs_prebatch, outputs_prebatch = grab_amazon_data()"
   ]
  },
  {
   "cell_type": "code",
   "execution_count": null,
   "metadata": {},
   "outputs": [],
   "source": [
    "class AttrDict(dict):\n",
    "    def __init__(self, *args, **kwargs):\n",
    "        super(AttrDict, self).__init__(*args, **kwargs)\n",
    "        self.__dict__ = self\n",
    "args = AttrDict({\"num_trajs\":807,\n",
    "        \"sl\":96,\n",
    "        \"batch_size\":20,\n",
    "        \"num_particles\":100,\n",
    "        \"window_length\":6,\n",
    "        \"h\":6,\n",
    "        \"emb_obs\":6,\n",
    "        \"emb_act\":6,\n",
    "        \"dropout\":0.5, #we changed this from 0.5\n",
    "        \"obs_num\":5,\n",
    "        \"resamp_alpha\":0.5,\n",
    "        \"bp_length\":10, \n",
    "        \"clip\":1.0,\n",
    "        \"lr\":0.005,\n",
    "        \"bpdecay\":0.01,\n",
    "        \"l2_weight\":1.0,\n",
    "        \"l1_weight\":0.0})"
   ]
  },
  {
   "cell_type": "code",
   "execution_count": null,
   "metadata": {},
   "outputs": [],
   "source": [
    "from cust_rnn import SimpleRNN\n",
    "from tqdm import tqdm\n",
    "from run_model import run_model"
   ]
  },
  {
   "cell_type": "code",
   "execution_count": null,
   "metadata": {},
   "outputs": [],
   "source": [
    "train_dataset_o = TrackingDataset(inputs_prebatch, outputs_prebatch)\n",
    "train_size = int(0.8 * len(train_dataset_o))\n",
    "test_size = len(train_dataset_o) - train_size\n",
    "train_dataset, test_dataset = torch.utils.data.random_split(train_dataset_o, [train_size, test_size],generator=torch.Generator().manual_seed(42))"
   ]
  },
  {
   "cell_type": "code",
   "execution_count": null,
   "metadata": {},
   "outputs": [],
   "source": [
    "train_loader = DataLoader(train_dataset, batch_size=args.batch_size,\n",
    "                            num_workers=8, pin_memory=True, shuffle=False, drop_last = True)\n",
    "test_loader = DataLoader(test_dataset, batch_size=args.batch_size,\n",
    "                            num_workers=8, pin_memory=True, shuffle=False, drop_last = True)\n",
    "model = Tracker(args)\n",
    "rnnmodel = SimpleRNN(args)\n",
    "optimizer = torch.optim.RMSprop(model.parameters(), lr=args.lr)"
   ]
  },
  {
   "cell_type": "code",
   "execution_count": null,
   "metadata": {},
   "outputs": [],
   "source": [
    "losses, pp = run_model(model, optimizer, train_loader, test_loader, args, 10, False)"
   ]
  },
  {
   "cell_type": "code",
   "execution_count": null,
   "metadata": {},
   "outputs": [],
   "source": [
    "rnnlosses, rnnpp = run_model(rnnmodel, optimizer, train_loader, test_loader, args, 10, False)"
   ]
  },
  {
   "cell_type": "code",
   "execution_count": null,
   "metadata": {},
   "outputs": [],
   "source": []
  },
  {
   "cell_type": "code",
   "execution_count": null,
   "metadata": {},
   "outputs": [],
   "source": [
    "np.array(losses).shape"
   ]
  },
  {
   "cell_type": "code",
   "execution_count": null,
   "metadata": {},
   "outputs": [],
   "source": [
    "np.array(losses)[:,0]"
   ]
  },
  {
   "cell_type": "code",
   "execution_count": null,
   "metadata": {},
   "outputs": [],
   "source": [
    "np.array(rnnlosses)[:,0]"
   ]
  },
  {
   "cell_type": "code",
   "execution_count": null,
   "metadata": {},
   "outputs": [],
   "source": []
  },
  {
   "cell_type": "code",
   "execution_count": null,
   "metadata": {},
   "outputs": [],
   "source": [
    "ppnp = pp.transpose(0,1).detach().numpy().flatten()"
   ]
  },
  {
   "cell_type": "code",
   "execution_count": null,
   "metadata": {},
   "outputs": [],
   "source": [
    "def norm(x):\n",
    "    mx = min(x), max(x)\n",
    "    xr = ((x-mx[0]) / (mx[1]-mx[0]))\n",
    "    return xr - np.average(xr)"
   ]
  },
  {
   "cell_type": "code",
   "execution_count": null,
   "metadata": {},
   "outputs": [],
   "source": [
    "train_data = train_dataset.dataset.outputs\n",
    "train_plot_old = train_data[:20 * (train_data.shape[0] // 20)].flatten()"
   ]
  },
  {
   "cell_type": "code",
   "execution_count": null,
   "metadata": {},
   "outputs": [],
   "source": [
    "np.array(rnnlosses)[:,0]"
   ]
  },
  {
   "cell_type": "code",
   "execution_count": null,
   "metadata": {},
   "outputs": [],
   "source": [
    "np.array(losses)[:,0]"
   ]
  },
  {
   "cell_type": "code",
   "execution_count": null,
   "metadata": {},
   "outputs": [],
   "source": []
  },
  {
   "cell_type": "code",
   "execution_count": null,
   "metadata": {},
   "outputs": [],
   "source": [
    "points_to_include = 1000\n",
    "plt.plot(norm(train_plot[:points_to_include]), c = 'g', label = \"original data\")\n",
    "plt.plot(norm(ppnp[:points_to_include]), c = 'b', label = \"pflstm\")\n",
    "plt.plot(norm(rnnppnp[:points_to_include]), c = 'r', label = \"lstm\")\n",
    "plt.legend()"
   ]
  },
  {
   "cell_type": "code",
   "execution_count": null,
   "metadata": {},
   "outputs": [],
   "source": [
    "points_to_include = 1000\n",
    "plt.plot(norm(train_plot_old[:points_to_include]), c = 'g', label = \"original data\")\n",
    "plt.plot(norm(ppnp[:points_to_include]), c = 'b', label = \"pflstm\")\n",
    "plt.plot(norm(rnnppnp[:points_to_include]), c = 'r', label = \"lstm\")\n",
    "plt.legend()"
   ]
  },
  {
   "cell_type": "code",
   "execution_count": null,
   "metadata": {},
   "outputs": [],
   "source": []
  },
  {
   "cell_type": "code",
   "execution_count": null,
   "metadata": {},
   "outputs": [],
   "source": [
    "fig, (ax0,ax1) = plt.subplots(1,2,figsize = (10,5))\n",
    "for lidx, lnp in enumerate(losses):\n",
    "    lnp = np.array(lnp)\n",
    "    ax0.plot(lnp[:,1], label = f\"{lidx}_loss\")\n",
    "    ax1.plot(lnp[:,1], label = f\"{lidx}_loss_last\")"
   ]
  },
  {
   "cell_type": "code",
   "execution_count": null,
   "metadata": {},
   "outputs": [],
   "source": [
    "fig, (ax0,ax1) = plt.subplots(1,2,figsize = (10,5))\n",
    "for lidx, lnp in enumerate(eval_losses):\n",
    "    lnp = np.array(lnp)\n",
    "    ax0.plot(lnp[:,0], label = f\"{lidx}_loss\")\n",
    "    ax1.plot(lnp[:,0], label = f\"{lidx}_loss_last\")"
   ]
  },
  {
   "cell_type": "code",
   "execution_count": null,
   "metadata": {},
   "outputs": [],
   "source": []
  }
 ],
 "metadata": {
  "kernelspec": {
   "display_name": "Python 3.8.3 ('pfrnnenv': venv)",
   "language": "python",
   "name": "python3"
  },
  "language_info": {
   "codemirror_mode": {
    "name": "ipython",
    "version": 3
   },
   "file_extension": ".py",
   "mimetype": "text/x-python",
   "name": "python",
   "nbconvert_exporter": "python",
   "pygments_lexer": "ipython3",
   "version": "3.8.3"
  },
  "orig_nbformat": 4,
  "vscode": {
   "interpreter": {
    "hash": "0a0f0a7b7ed05866b07d6fb8557e78a103d73f39498a82dca92fe4225be41348"
   }
  }
 },
 "nbformat": 4,
 "nbformat_minor": 2
}
