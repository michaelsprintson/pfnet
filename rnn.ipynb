{
 "cells": [
  {
   "cell_type": "code",
   "execution_count": 1,
   "metadata": {},
   "outputs": [
    {
     "name": "stderr",
     "output_type": "stream",
     "text": [
      "2022-11-25 11:58:15.768188: I tensorflow/core/platform/cpu_feature_guard.cc:193] This TensorFlow binary is optimized with oneAPI Deep Neural Network Library (oneDNN) to use the following CPU instructions in performance-critical operations:  AVX2 FMA\n",
      "To enable them in other operations, rebuild TensorFlow with the appropriate compiler flags.\n"
     ]
    }
   ],
   "source": [
    "import tensorflow.compat.v1 as tf\n",
    "from tensorflow.keras import activations\n",
    "tf.disable_eager_execution()\n",
    "import pandas as pd\n",
    "import numpy as np\n",
    "import matplotlib.pyplot as plt"
   ]
  },
  {
   "cell_type": "code",
   "execution_count": 2,
   "metadata": {},
   "outputs": [],
   "source": [
    "class BasicRNNCell(tf.compat.v1.nn.rnn_cell.RNNCell):\n",
    "\n",
    "    def __init__(\n",
    "        self,\n",
    "        num_units,\n",
    "        activation=None,\n",
    "        reuse=None,\n",
    "        name=None,\n",
    "        dtype=None,\n",
    "        **kwargs,\n",
    "    ):\n",
    "        super().__init__(_reuse=reuse, name=name, dtype=dtype, **kwargs)\n",
    "\n",
    "        self._num_units = num_units\n",
    "        if activation:\n",
    "            self._activation = activations.get(activation)\n",
    "        else:\n",
    "            self._activation = tf.tanh\n",
    "\n",
    "    @property\n",
    "    def state_size(self):\n",
    "        return self._num_units\n",
    "\n",
    "    @property\n",
    "    def output_size(self):\n",
    "        return self._num_units\n",
    "\n",
    "    def build(self, inputs_shape):\n",
    "        if inputs_shape[-1] is None:\n",
    "            raise ValueError(\n",
    "                \"Expected inputs.shape[-1] to be known, \"\n",
    "                f\"received shape: {inputs_shape}\"\n",
    "            )\n",
    "\n",
    "        input_depth = inputs_shape[-1]\n",
    "        self._kernel = self.add_weight(\n",
    "            \"kernel\",\n",
    "            shape=[input_depth + self._num_units, self._num_units],\n",
    "        )\n",
    "        self._bias = self.add_weight(\n",
    "            \"bias\",\n",
    "            shape=[self._num_units],\n",
    "            initializer=tf.compat.v1.zeros_initializer(dtype=self.dtype),\n",
    "        )\n",
    "\n",
    "        self.built = True\n",
    "\n",
    "    def call(self, inputs, state):\n",
    "        \"\"\"Most basic RNN: output = new_state = act(W * input + U * state +\n",
    "        B).\"\"\"\n",
    "\n",
    "        gate_inputs = tf.matmul(tf.concat([inputs, state], 1), self._kernel)\n",
    "        gate_inputs = tf.nn.bias_add(gate_inputs, self._bias)\n",
    "        output = self._activation(gate_inputs)\n",
    "        return output, output\n",
    "\n",
    "    def get_config(self):\n",
    "        config = {\n",
    "            \"num_units\": self._num_units,\n",
    "            \"activation\": activations.serialize(self._activation),\n",
    "            \"reuse\": self._reuse,\n",
    "        }\n",
    "        base_config = super().get_config()\n",
    "        return dict(list(base_config.items()) + list(config.items()))"
   ]
  },
  {
   "cell_type": "code",
   "execution_count": 3,
   "metadata": {},
   "outputs": [],
   "source": [
    "n_windows = 20   \n",
    "n_input =  1\n",
    "n_output = 1\n",
    "size_train = 201\n",
    "tf.reset_default_graph()\n",
    "r_neuron = 120   "
   ]
  },
  {
   "cell_type": "code",
   "execution_count": 4,
   "metadata": {},
   "outputs": [],
   "source": [
    "def create_ts(start = '2001', n = 201, freq = 'M'):\n",
    "    rng = pd.date_range(start=start, periods=n, freq=freq)\n",
    "    ts = pd.Series(np.random.uniform(-18, 18, size=len(rng)), rng).cumsum()\n",
    "    return ts\n",
    "ts = create_ts(start = '2001', n = 222)"
   ]
  },
  {
   "cell_type": "code",
   "execution_count": 5,
   "metadata": {},
   "outputs": [
    {
     "name": "stdout",
     "output_type": "stream",
     "text": [
      "(201,) (21,)\n"
     ]
    }
   ],
   "source": [
    "series = np.array(ts)\n",
    "train = series[:size_train]\n",
    "test = series[size_train:]\n",
    "print(train.shape, test.shape)"
   ]
  },
  {
   "cell_type": "code",
   "execution_count": 6,
   "metadata": {},
   "outputs": [],
   "source": [
    "x_data = train[:size_train-1]\n",
    "X_batches = x_data.reshape(-1, n_windows, n_input)\n",
    "def create_batches(df, windows, input, output):\n",
    "    ## Create X         \n",
    "        x_data = train[:size_train-1] # Select the data\n",
    "        X_batches = x_data.reshape(-1, windows, input)  # Reshape the data \n",
    "    ## Create y\n",
    "        y_data = train[n_output:size_train]\n",
    "        y_batches = y_data.reshape(-1, windows, output)\n",
    "        return X_batches, y_batches"
   ]
  },
  {
   "cell_type": "code",
   "execution_count": 7,
   "metadata": {},
   "outputs": [],
   "source": [
    "X_batches, y_batches = create_batches(df = train,\n",
    "                                      windows = n_windows,\n",
    "                                      input = n_input,\n",
    "                                      output = n_output)"
   ]
  },
  {
   "cell_type": "code",
   "execution_count": 8,
   "metadata": {},
   "outputs": [
    {
     "name": "stdout",
     "output_type": "stream",
     "text": [
      "(10, 20, 1) (10, 20, 1)\n"
     ]
    }
   ],
   "source": [
    "X_test, y_test = create_batches(df = test, windows = 20,input = 1, output = 1)\n",
    "print(X_test.shape, y_test.shape)"
   ]
  },
  {
   "cell_type": "code",
   "execution_count": 9,
   "metadata": {},
   "outputs": [
    {
     "name": "stdout",
     "output_type": "stream",
     "text": [
      "WARNING:tensorflow:From /var/folders/1_/_n_tsfn5339_d17486wc50nw0000gn/T/ipykernel_98819/225924246.py:7: dynamic_rnn (from tensorflow.python.ops.rnn) is deprecated and will be removed in a future version.\n",
      "Instructions for updating:\n",
      "Please use `keras.layers.RNN(cell)`, which is equivalent to this API\n",
      "WARNING:tensorflow:From /var/folders/1_/_n_tsfn5339_d17486wc50nw0000gn/T/ipykernel_98819/3778857931.py:43: calling Zeros.__init__ (from tensorflow.python.ops.init_ops) with dtype is deprecated and will be removed in a future version.\n",
      "Instructions for updating:\n",
      "Call initializer instance with the dtype argument instead of passing it to the constructor\n"
     ]
    },
    {
     "name": "stderr",
     "output_type": "stream",
     "text": [
      "/var/folders/1_/_n_tsfn5339_d17486wc50nw0000gn/T/ipykernel_98819/225924246.py:9: UserWarning: `tf.layers.dense` is deprecated and will be removed in a future version. Please use `tf.keras.layers.Dense` instead.\n",
      "  stacked_outputs = tf.layers.dense(stacked_rnn_output, n_output)\n"
     ]
    }
   ],
   "source": [
    "X = tf.placeholder(tf.float32, [None, n_windows, n_input])   \n",
    "y = tf.placeholder(tf.float32, [None, n_windows, n_output])\n",
    "\n",
    "basic_cell = BasicRNNCell(r_neuron, activation=tf.nn.relu) \n",
    "# basic_cell = tf.compat.v1.nn.rnn_cell.BasicRNNCell(r_neuron, activation=tf.nn.relu) \n",
    "\n",
    "rnn_output, states = tf.nn.dynamic_rnn(basic_cell, X, dtype=tf.float32)              \n",
    "stacked_rnn_output = tf.reshape(rnn_output, [-1, r_neuron])          \n",
    "stacked_outputs = tf.layers.dense(stacked_rnn_output, n_output)       \n",
    "outputs = tf.reshape(stacked_outputs, [-1, n_windows, n_output])"
   ]
  },
  {
   "cell_type": "code",
   "execution_count": 10,
   "metadata": {},
   "outputs": [],
   "source": [
    "learning_rate = 0.001  \n",
    " \n",
    "loss = tf.reduce_sum(tf.square(outputs - y))    \n",
    "optimizer = tf.train.AdamOptimizer(learning_rate=learning_rate)         \n",
    "training_op = optimizer.minimize(loss) "
   ]
  },
  {
   "cell_type": "code",
   "execution_count": 11,
   "metadata": {},
   "outputs": [
    {
     "name": "stderr",
     "output_type": "stream",
     "text": [
      "2022-11-25 11:58:19.162682: I tensorflow/core/platform/cpu_feature_guard.cc:193] This TensorFlow binary is optimized with oneAPI Deep Neural Network Library (oneDNN) to use the following CPU instructions in performance-critical operations:  AVX2 FMA\n",
      "To enable them in other operations, rebuild TensorFlow with the appropriate compiler flags.\n",
      "2022-11-25 11:58:19.167229: I tensorflow/compiler/mlir/mlir_graph_optimization_pass.cc:357] MLIR V1 optimization pass is not enabled\n"
     ]
    },
    {
     "name": "stdout",
     "output_type": "stream",
     "text": [
      "0 \tMSE: 2426966.8\n",
      "150 \tMSE: 49917.598\n",
      "300 \tMSE: 15099.124\n",
      "450 \tMSE: 10036.301\n",
      "600 \tMSE: 7335.3394\n",
      "750 \tMSE: 6538.5835\n",
      "900 \tMSE: 5137.2163\n",
      "1050 \tMSE: 4900.088\n",
      "1200 \tMSE: 4023.4592\n",
      "1350 \tMSE: 3496.1562\n"
     ]
    }
   ],
   "source": [
    "init = tf.global_variables_initializer() \n",
    "iteration = 1500 \n",
    "\n",
    "with tf.Session() as sess:\n",
    "    init.run()\n",
    "    for iters in range(iteration):\n",
    "        sess.run(training_op, feed_dict={X: X_batches, y: y_batches})\n",
    "        if iters % 150 == 0:\n",
    "            mse = loss.eval(feed_dict={X: X_batches, y: y_batches})\n",
    "            print(iters, \"\\tMSE:\", mse)\n",
    "    \n",
    "    y_pred = sess.run(outputs, feed_dict={X: X_test})"
   ]
  },
  {
   "cell_type": "code",
   "execution_count": 12,
   "metadata": {},
   "outputs": [
    {
     "name": "stderr",
     "output_type": "stream",
     "text": [
      "/var/folders/1_/_n_tsfn5339_d17486wc50nw0000gn/T/ipykernel_98819/2606641324.py:2: UserWarning: color is redundantly defined by the 'color' keyword argument and the fmt string \"bo\" (-> color='b'). The keyword argument will take precedence.\n",
      "  plt.plot(pd.Series(np.ravel(y_test)), \"bo\", markersize=8, label=\"Actual\", color='green')\n",
      "/var/folders/1_/_n_tsfn5339_d17486wc50nw0000gn/T/ipykernel_98819/2606641324.py:3: UserWarning: color is redundantly defined by the 'color' keyword argument and the fmt string \"r.\" (-> color='r'). The keyword argument will take precedence.\n",
      "  plt.plot(pd.Series(np.ravel(y_pred)), \"r.\", markersize=8, label=\"Forecast\", color='red')\n"
     ]
    },
    {
     "data": {
      "image/png": "[encoded data removed]",
      "text/plain": [
       "<Figure size 640x480 with 1 Axes>"
      ]
     },
     "metadata": {},
     "output_type": "display_data"
    }
   ],
   "source": [
    "plt.title(\"Forecast vs Actual\", fontsize=14)\n",
    "plt.plot(pd.Series(np.ravel(y_test)), \"bo\", markersize=8, label=\"Actual\", color='green')\n",
    "plt.plot(pd.Series(np.ravel(y_pred)), \"r.\", markersize=8, label=\"Forecast\", color='red')\n",
    "plt.legend(loc=\"lower left\")\n",
    "plt.xlabel(\"Time\")\n",
    "\n",
    "plt.show()"
   ]
  },
  {
   "cell_type": "code",
   "execution_count": null,
   "metadata": {},
   "outputs": [],
   "source": []
  }
 ],
 "metadata": {
  "kernelspec": {
   "display_name": "Python 3.8.3 ('pfenv': venv)",
   "language": "python",
   "name": "python3"
  },
  "language_info": {
   "codemirror_mode": {
    "name": "ipython",
    "version": 3
   },
   "file_extension": ".py",
   "mimetype": "text/x-python",
   "name": "python",
   "nbconvert_exporter": "python",
   "pygments_lexer": "ipython3",
   "version": "3.8.3"
  },
  "orig_nbformat": 4,
  "vscode": {
   "interpreter": {
    "hash": "c9557a0cd5eb7c1d4de8530d9aaae31518345071516817119c60ddcfe84006e6"
   }
  }
 },
 "nbformat": 4,
 "nbformat_minor": 2
}
