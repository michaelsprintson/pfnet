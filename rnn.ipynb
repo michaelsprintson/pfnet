{
 "cells": [
  {
   "cell_type": "code",
   "execution_count": 1,
   "metadata": {},
   "outputs": [],
   "source": [
    "%load_ext autoreload\n",
    "%autoreload 2"
   ]
  },
  {
   "cell_type": "code",
   "execution_count": 2,
   "metadata": {},
   "outputs": [
    {
     "name": "stderr",
     "output_type": "stream",
     "text": [
      "2022-11-28 01:15:02.908292: I tensorflow/core/platform/cpu_feature_guard.cc:193] This TensorFlow binary is optimized with oneAPI Deep Neural Network Library (oneDNN) to use the following CPU instructions in performance-critical operations:  AVX2 FMA\n",
      "To enable them in other operations, rebuild TensorFlow with the appropriate compiler flags.\n"
     ]
    }
   ],
   "source": [
    "import tensorflow as tf\n",
    "# import tensorflow.compat.v1 as tf1\n",
    "from tensorflow.keras import activations\n",
    "tf.compat.v1.disable_eager_execution()\n",
    "import pandas as pd\n",
    "import numpy as np\n",
    "import matplotlib.pyplot as plt"
   ]
  },
  {
   "cell_type": "code",
   "execution_count": 3,
   "metadata": {},
   "outputs": [],
   "source": [
    "from cust_rnn import BasicRNNCell"
   ]
  },
  {
   "cell_type": "code",
   "execution_count": 4,
   "metadata": {},
   "outputs": [],
   "source": [
    "n_windows = 200\n",
    "n_input =  1\n",
    "n_output = 1\n",
    "size_train = 2001\n",
    "r_neuron = 120   "
   ]
  },
  {
   "cell_type": "code",
   "execution_count": 5,
   "metadata": {},
   "outputs": [],
   "source": [
    "def create_ts(start = '2001', n = 201, freq = 'M'):\n",
    "    rng = pd.date_range(start=start, periods=n, freq=freq)\n",
    "    ts = pd.Series(np.random.uniform(-18, 18, size=len(rng)), rng).cumsum()\n",
    "    return ts\n",
    "ts = create_ts(start = '2001', n = 2205)"
   ]
  },
  {
   "cell_type": "code",
   "execution_count": 6,
   "metadata": {},
   "outputs": [
    {
     "name": "stdout",
     "output_type": "stream",
     "text": [
      "(2001,) (201,)\n"
     ]
    }
   ],
   "source": [
    "series = np.array(ts[3:])\n",
    "train = series[:size_train]\n",
    "test = series[size_train:]\n",
    "print(train.shape, test.shape)"
   ]
  },
  {
   "cell_type": "code",
   "execution_count": 7,
   "metadata": {},
   "outputs": [],
   "source": [
    "x_data = train[:size_train-1]\n",
    "X_batches = x_data.reshape(-1, n_windows, n_input)\n",
    "def create_batches(df, windows, input, output):\n",
    "    ## Create X         \n",
    "        x_data = train[:size_train-1] # Select the data\n",
    "        X_batches = x_data.reshape(-1, windows, input)  # Reshape the data \n",
    "    ## Create y\n",
    "        y_data = train[n_output:size_train]\n",
    "        y_batches = y_data.reshape(-1, windows, output)\n",
    "        return X_batches, y_batches"
   ]
  },
  {
   "cell_type": "code",
   "execution_count": 8,
   "metadata": {},
   "outputs": [
    {
     "name": "stdout",
     "output_type": "stream",
     "text": [
      "(10, 200, 1) (10, 200, 1)\n"
     ]
    }
   ],
   "source": [
    "X_batches, y_batches = create_batches(df = train,\n",
    "                                      windows = n_windows,\n",
    "                                      input = n_input,\n",
    "                                      output = n_output)\n",
    "print(X_batches.shape, y_batches.shape)"
   ]
  },
  {
   "cell_type": "code",
   "execution_count": 9,
   "metadata": {},
   "outputs": [
    {
     "name": "stdout",
     "output_type": "stream",
     "text": [
      "(10, 200, 1) (10, 200, 1)\n"
     ]
    }
   ],
   "source": [
    "X_test, y_test = create_batches(df = test, windows = 200,input = 1, output = 1)\n",
    "print(X_test.shape, y_test.shape)"
   ]
  },
  {
   "cell_type": "code",
   "execution_count": 10,
   "metadata": {},
   "outputs": [],
   "source": [
    "params = {\"l2scale\":4e-6,\n",
    "        \"alpha_resample_ratio\":0.9,\n",
    "        \"transition_std\":[10,3,5],\n",
    "        \"time_step\":1.0,\n",
    "        \"decayrate\":0.5,\n",
    "        \"learningrate\":0.0001,\n",
    "        \"num_particles\":100,\n",
    "        }"
   ]
  },
  {
   "cell_type": "code",
   "execution_count": null,
   "metadata": {},
   "outputs": [],
   "source": []
  },
  {
   "cell_type": "code",
   "execution_count": 11,
   "metadata": {},
   "outputs": [],
   "source": [
    "batch_num = 10\n",
    "particle_states_inits = np.zeros((batch_num,params[\"num_particles\"], 3)) \n",
    "for i in range(0,batch_num):\n",
    "    ri = np.zeros((params[\"num_particles\"], 3))\n",
    "    tsi = x_data[i*n_windows:i*n_windows + 3]\n",
    "    # r = [tsi[2],  (tsi[2] - tsi[1]) / params['time_step'], ((tsi[2] - tsi[1]) - (tsi[1] - tsi[0])) / params['time_step']]\n",
    "\n",
    "    #some cheating\n",
    "    inc_data = x_data[i*n_windows:(i+1)*n_windows]\n",
    "    v = [i-j for i,j in zip(inc_data[1:], inc_data[:-1])]\n",
    "    a = [i-j for i,j in zip(v[1:], v[:-1])]\n",
    "    r = [tsi[2],  np.average(v), np.average(a)]\n",
    "\n",
    "    for ridx in range(0,3):\n",
    "        ri[:,ridx] = np.random.uniform(r[ridx] - params['transition_std'][ridx], r[ridx] + params['transition_std'][ridx], (params[\"num_particles\"]))\n",
    "    particle_states_inits[i] = ri\n"
   ]
  },
  {
   "cell_type": "code",
   "execution_count": 12,
   "metadata": {},
   "outputs": [],
   "source": [
    "fv = np.log(1.0/float(params['num_particles']))\n",
    "particle_weights_inits = np.full(shape=particle_states_inits.shape[:-1], fill_value=fv)"
   ]
  },
  {
   "cell_type": "code",
   "execution_count": 13,
   "metadata": {},
   "outputs": [],
   "source": [
    "lag_len = 5\n",
    "last_window_points = np.array([x_data[i-lag_len:i] if i>=lag_len else np.concatenate((np.zeros(lag_len-i),x_data[:i])) for i in range(0,len(x_data))]).reshape(batch_num, n_windows, -1)"
   ]
  },
  {
   "cell_type": "code",
   "execution_count": 14,
   "metadata": {},
   "outputs": [],
   "source": [
    "from cust_rnn import PFNET"
   ]
  },
  {
   "cell_type": "code",
   "execution_count": 15,
   "metadata": {},
   "outputs": [],
   "source": [
    "batches_to_include = 2\n",
    "points_to_include = 15\n",
    "fl = [X_batches[:batches_to_include,:points_to_include], particle_states_inits[:batches_to_include], particle_weights_inits[:batches_to_include], last_window_points[:batches_to_include,:points_to_include], y_batches[:batches_to_include, :points_to_include]]"
   ]
  },
  {
   "cell_type": "code",
   "execution_count": 16,
   "metadata": {},
   "outputs": [
    {
     "name": "stderr",
     "output_type": "stream",
     "text": [
      "2022-11-28 01:15:10.208426: I tensorflow/core/platform/cpu_feature_guard.cc:193] This TensorFlow binary is optimized with oneAPI Deep Neural Network Library (oneDNN) to use the following CPU instructions in performance-critical operations:  AVX2 FMA\n",
      "To enable them in other operations, rebuild TensorFlow with the appropriate compiler flags.\n"
     ]
    },
    {
     "name": "stdout",
     "output_type": "stream",
     "text": [
      "WARNING:tensorflow:From /Users/michaelsprintson/Documents/nosync.nosync/pfnet/pfenv/lib/python3.8/site-packages/tensorflow/python/training/rmsprop.py:188: calling Ones.__init__ (from tensorflow.python.ops.init_ops) with dtype is deprecated and will be removed in a future version.\n",
      "Instructions for updating:\n",
      "Call initializer instance with the dtype argument instead of passing it to the constructor\n"
     ]
    }
   ],
   "source": [
    "train_brain = PFNET(params, [fl[1].shape, fl[0].shape, fl[3].shape], fl[4].shape, True)"
   ]
  },
  {
   "cell_type": "code",
   "execution_count": 17,
   "metadata": {},
   "outputs": [
    {
     "name": "stderr",
     "output_type": "stream",
     "text": [
      "2022-11-28 01:15:10.879713: I tensorflow/compiler/mlir/mlir_graph_optimization_pass.cc:357] MLIR V1 optimization pass is not enabled\n"
     ]
    },
    {
     "name": "stdout",
     "output_type": "stream",
     "text": [
      "done with run init\n",
      "done with fd\n",
      "26713.352\n",
      "82986.836\n",
      "165810.66\n",
      "23409.904\n",
      "90311.83\n",
      "233717.03\n",
      "10204.533\n",
      "34360.242\n",
      "138251.66\n",
      "9732.21\n",
      "54497.715\n",
      "118216.234\n",
      "96723.21\n",
      "68971.94\n",
      "269213.7\n",
      "21951.906\n",
      "141889.86\n",
      "39480.055\n",
      "208340.83\n",
      "170513.0\n",
      "done with op\n"
     ]
    }
   ],
   "source": [
    "\n",
    "init_op = tf.group(tf.compat.v1.global_variables_initializer(), tf.compat.v1.local_variables_initializer())\n",
    "iteration = 20\n",
    "with tf.compat.v1.Session() as sess:\n",
    "    sess.run(init_op)\n",
    "    print(\"done with run init\") #11\n",
    "    # obs_in, init_particle_states, init_particle_weights, prev_window, true_pos\n",
    "    \n",
    "    fd = {i:fl[idx] for idx, i in enumerate(train_brain.inputs)}\n",
    "    print(\"done with fd\") #0\n",
    "    for iters in range(iteration):\n",
    "        _, loss, _, o= sess.run([train_brain.train_op, train_brain.train_loss_op,\n",
    "                                               train_brain.update_state_op, train_brain.print_state_op], feed_dict=fd)\n",
    "        print(loss)\n",
    "    print(\"done with op\") #4"
   ]
  },
  {
   "cell_type": "code",
   "execution_count": 18,
   "metadata": {},
   "outputs": [
    {
     "data": {
      "text/plain": [
       "0.6724779023079037"
      ]
     },
     "execution_count": 18,
     "metadata": {},
     "output_type": "execute_result"
    }
   ],
   "source": [
    "x_data[0]"
   ]
  },
  {
   "cell_type": "code",
   "execution_count": 19,
   "metadata": {},
   "outputs": [
    {
     "data": {
      "text/plain": [
       "(19.64545965110088, 27.280536038667172)"
      ]
     },
     "execution_count": 19,
     "metadata": {},
     "output_type": "execute_result"
    }
   ],
   "source": [
    "np.ptp(particle_states_inits[0][:,0]), np.mean(particle_states_inits[0][:,0])"
   ]
  },
  {
   "cell_type": "code",
   "execution_count": 20,
   "metadata": {},
   "outputs": [
    {
     "data": {
      "text/plain": [
       "((100, 3), (100,))"
      ]
     },
     "execution_count": 20,
     "metadata": {},
     "output_type": "execute_result"
    }
   ],
   "source": [
    "iter_idx = 2\n",
    "test_states = o[0][0][iter_idx]\n",
    "test_weights = o[1][0][iter_idx]\n",
    "test_states.shape, test_weights.shape"
   ]
  },
  {
   "cell_type": "code",
   "execution_count": 21,
   "metadata": {},
   "outputs": [
    {
     "data": {
      "text/plain": [
       "array([-0.00028229,  0.00037003, -0.00076485,  0.00037003, -0.00076485,\n",
       "        0.00037003, -0.00076485, -0.00028229,  0.00037003, -0.00076485,\n",
       "       -0.00076485,  0.00037003,  0.00016928,  0.00037003, -0.00076485,\n",
       "       -0.00076485, -0.00076485, -0.00076485, -0.00076485,  0.00037003,\n",
       "       -0.00028229,  0.00037003, -0.00076485,  0.00037003,  0.00037003,\n",
       "       -0.00028229,  0.00016928,  0.00037003,  0.00016928,  0.00037003,\n",
       "        0.00037003, -0.00076485, -0.00076485,  0.00037003,  0.00037003,\n",
       "        0.00037003, -0.00076485, -0.00076485, -0.00076485,  0.00016928,\n",
       "        0.00037003, -0.00076485,  0.00037003, -0.00076485,  0.00016928,\n",
       "        0.00037003,  0.00016928,  0.00037003, -0.00076485, -0.00028229,\n",
       "        0.00037003, -0.00076485,  0.00016928, -0.00076485, -0.00076485,\n",
       "       -0.00076485,  0.00037003, -0.00076485, -0.00028229,  0.00016928,\n",
       "        0.00037003, -0.00076485,  0.00016928,  0.00016928,  0.00016928,\n",
       "        0.00037003, -0.00076485, -0.00076485,  0.00037003,  0.00037003,\n",
       "       -0.00076485, -0.00028229, -0.00076485,  0.00016928, -0.00076485,\n",
       "       -0.00076485,  0.00037003,  0.00016928,  0.00037003, -0.00076485,\n",
       "        0.00037003,  0.00037003,  0.00016928,  0.00016928,  0.00037003,\n",
       "        0.00037003,  0.00016928,  0.00037003,  0.00037003,  0.00037003,\n",
       "       -0.00076485, -0.00076485,  0.00037003,  0.00037003, -0.00076485,\n",
       "       -0.00076485,  0.00026417,  0.00016928, -0.00028229,  0.00037003],\n",
       "      dtype=float32)"
      ]
     },
     "execution_count": 21,
     "metadata": {},
     "output_type": "execute_result"
    }
   ],
   "source": [
    "test_weights"
   ]
  },
  {
   "cell_type": "code",
   "execution_count": 22,
   "metadata": {},
   "outputs": [
    {
     "data": {
      "text/plain": [
       "array([[ 38.04035   ,  -4.585389  , -14.495344  ],\n",
       "       [ 16.080105  ,   4.6998906 ,   1.5606755 ],\n",
       "       [ 54.835957  ,   5.517268  ,  -0.91186476],\n",
       "       [ 16.080105  ,   4.6998906 ,   1.5606755 ],\n",
       "       [ 54.835957  ,   5.517268  ,  -0.91186476],\n",
       "       [ 16.080105  ,   4.6998906 ,   1.5606755 ],\n",
       "       [ 54.835957  ,   5.517268  ,  -0.91186476],\n",
       "       [ 38.04035   ,  -4.585389  , -14.495344  ],\n",
       "       [ 16.080105  ,   4.6998906 ,   1.5606755 ],\n",
       "       [ 54.835957  ,   5.517268  ,  -0.91186476],\n",
       "       [ 54.835957  ,   5.517268  ,  -0.91186476],\n",
       "       [ 16.080105  ,   4.6998906 ,   1.5606755 ],\n",
       "       [ 26.051208  ,  10.809425  ,   7.22068   ],\n",
       "       [ 16.080105  ,   4.6998906 ,   1.5606755 ],\n",
       "       [ 54.835957  ,   5.517268  ,  -0.91186476],\n",
       "       [ 54.835957  ,   5.517268  ,  -0.91186476],\n",
       "       [ 54.835957  ,   5.517268  ,  -0.91186476],\n",
       "       [ 54.835957  ,   5.517268  ,  -0.91186476],\n",
       "       [ 54.835957  ,   5.517268  ,  -0.91186476],\n",
       "       [ 16.080105  ,   4.6998906 ,   1.5606755 ],\n",
       "       [ 38.04035   ,  -4.585389  , -14.495344  ],\n",
       "       [ 16.080105  ,   4.6998906 ,   1.5606755 ],\n",
       "       [ 54.835957  ,   5.517268  ,  -0.91186476],\n",
       "       [ 16.080105  ,   4.6998906 ,   1.5606755 ],\n",
       "       [ 16.080105  ,   4.6998906 ,   1.5606755 ],\n",
       "       [ 38.04035   ,  -4.585389  , -14.495344  ],\n",
       "       [ 26.051208  ,  10.809425  ,   7.22068   ],\n",
       "       [ 16.080105  ,   4.6998906 ,   1.5606755 ],\n",
       "       [ 26.051208  ,  10.809425  ,   7.22068   ],\n",
       "       [ 16.080105  ,   4.6998906 ,   1.5606755 ],\n",
       "       [ 16.080105  ,   4.6998906 ,   1.5606755 ],\n",
       "       [ 54.835957  ,   5.517268  ,  -0.91186476],\n",
       "       [ 54.835957  ,   5.517268  ,  -0.91186476],\n",
       "       [ 16.080105  ,   4.6998906 ,   1.5606755 ],\n",
       "       [ 16.080105  ,   4.6998906 ,   1.5606755 ],\n",
       "       [ 16.080105  ,   4.6998906 ,   1.5606755 ],\n",
       "       [ 54.835957  ,   5.517268  ,  -0.91186476],\n",
       "       [ 54.835957  ,   5.517268  ,  -0.91186476],\n",
       "       [ 54.835957  ,   5.517268  ,  -0.91186476],\n",
       "       [ 26.051208  ,  10.809425  ,   7.22068   ],\n",
       "       [ 16.080105  ,   4.6998906 ,   1.5606755 ],\n",
       "       [ 54.835957  ,   5.517268  ,  -0.91186476],\n",
       "       [ 16.080105  ,   4.6998906 ,   1.5606755 ],\n",
       "       [ 54.835957  ,   5.517268  ,  -0.91186476],\n",
       "       [ 26.051208  ,  10.809425  ,   7.22068   ],\n",
       "       [ 16.080105  ,   4.6998906 ,   1.5606755 ],\n",
       "       [ 26.051208  ,  10.809425  ,   7.22068   ],\n",
       "       [ 16.080105  ,   4.6998906 ,   1.5606755 ],\n",
       "       [ 54.835957  ,   5.517268  ,  -0.91186476],\n",
       "       [ 38.04035   ,  -4.585389  , -14.495344  ],\n",
       "       [ 16.080105  ,   4.6998906 ,   1.5606755 ],\n",
       "       [ 54.835957  ,   5.517268  ,  -0.91186476],\n",
       "       [ 26.051208  ,  10.809425  ,   7.22068   ],\n",
       "       [ 54.835957  ,   5.517268  ,  -0.91186476],\n",
       "       [ 54.835957  ,   5.517268  ,  -0.91186476],\n",
       "       [ 54.835957  ,   5.517268  ,  -0.91186476],\n",
       "       [ 16.080105  ,   4.6998906 ,   1.5606755 ],\n",
       "       [ 54.835957  ,   5.517268  ,  -0.91186476],\n",
       "       [ 38.04035   ,  -4.585389  , -14.495344  ],\n",
       "       [ 26.051208  ,  10.809425  ,   7.22068   ],\n",
       "       [ 16.080105  ,   4.6998906 ,   1.5606755 ],\n",
       "       [ 54.835957  ,   5.517268  ,  -0.91186476],\n",
       "       [ 26.051208  ,  10.809425  ,   7.22068   ],\n",
       "       [ 26.051208  ,  10.809425  ,   7.22068   ],\n",
       "       [ 26.051208  ,  10.809425  ,   7.22068   ],\n",
       "       [ 16.080105  ,   4.6998906 ,   1.5606755 ],\n",
       "       [ 54.835957  ,   5.517268  ,  -0.91186476],\n",
       "       [ 54.835957  ,   5.517268  ,  -0.91186476],\n",
       "       [ 16.080105  ,   4.6998906 ,   1.5606755 ],\n",
       "       [ 16.080105  ,   4.6998906 ,   1.5606755 ],\n",
       "       [ 54.835957  ,   5.517268  ,  -0.91186476],\n",
       "       [ 38.04035   ,  -4.585389  , -14.495344  ],\n",
       "       [ 54.835957  ,   5.517268  ,  -0.91186476],\n",
       "       [ 26.051208  ,  10.809425  ,   7.22068   ],\n",
       "       [ 54.835957  ,   5.517268  ,  -0.91186476],\n",
       "       [ 54.835957  ,   5.517268  ,  -0.91186476],\n",
       "       [ 16.080105  ,   4.6998906 ,   1.5606755 ],\n",
       "       [ 26.051208  ,  10.809425  ,   7.22068   ],\n",
       "       [ 16.080105  ,   4.6998906 ,   1.5606755 ],\n",
       "       [ 54.835957  ,   5.517268  ,  -0.91186476],\n",
       "       [ 16.080105  ,   4.6998906 ,   1.5606755 ],\n",
       "       [ 16.080105  ,   4.6998906 ,   1.5606755 ],\n",
       "       [ 26.051208  ,  10.809425  ,   7.22068   ],\n",
       "       [ 26.051208  ,  10.809425  ,   7.22068   ],\n",
       "       [ 16.080105  ,   4.6998906 ,   1.5606755 ],\n",
       "       [ 16.080105  ,   4.6998906 ,   1.5606755 ],\n",
       "       [ 26.051208  ,  10.809425  ,   7.22068   ],\n",
       "       [ 16.080105  ,   4.6998906 ,   1.5606755 ],\n",
       "       [ 16.080105  ,   4.6998906 ,   1.5606755 ],\n",
       "       [ 16.080105  ,   4.6998906 ,   1.5606755 ],\n",
       "       [ 54.835957  ,   5.517268  ,  -0.91186476],\n",
       "       [ 54.835957  ,   5.517268  ,  -0.91186476],\n",
       "       [ 16.080105  ,   4.6998906 ,   1.5606755 ],\n",
       "       [ 16.080105  ,   4.6998906 ,   1.5606755 ],\n",
       "       [ 54.835957  ,   5.517268  ,  -0.91186476],\n",
       "       [ 54.835957  ,   5.517268  ,  -0.91186476],\n",
       "       [ 21.182022  ,  18.208622  ,   1.3240842 ],\n",
       "       [ 26.051208  ,  10.809425  ,   7.22068   ],\n",
       "       [ 38.04035   ,  -4.585389  , -14.495344  ],\n",
       "       [ 16.080105  ,   4.6998906 ,   1.5606755 ]], dtype=float32)"
      ]
     },
     "execution_count": 22,
     "metadata": {},
     "output_type": "execute_result"
    }
   ],
   "source": [
    "test_states"
   ]
  },
  {
   "cell_type": "code",
   "execution_count": 23,
   "metadata": {},
   "outputs": [],
   "source": [
    "# test weights loved state sample 5, with value -8.568, velocity -14, acc -24\n",
    "# i assume this sent all the weights into a massive downwards spiral"
   ]
  },
  {
   "cell_type": "code",
   "execution_count": 24,
   "metadata": {},
   "outputs": [
    {
     "data": {
      "image/png": "[encoded data removed]",
      "text/plain": [
       "<Figure size 640x480 with 1 Axes>"
      ]
     },
     "metadata": {},
     "output_type": "display_data"
    }
   ],
   "source": [
    "points_to_plot = points_to_include\n",
    "states_over_time = o[0][0][:,:,0]\n",
    "plt.plot(X_batches[0][:points_to_plot])\n",
    "for idx, s in enumerate(states_over_time[:points_to_plot]):\n",
    "    plt.scatter([idx] * len(s), s)"
   ]
  },
  {
   "cell_type": "code",
   "execution_count": null,
   "metadata": {},
   "outputs": [],
   "source": []
  },
  {
   "cell_type": "code",
   "execution_count": null,
   "metadata": {},
   "outputs": [],
   "source": []
  },
  {
   "cell_type": "code",
   "execution_count": null,
   "metadata": {},
   "outputs": [],
   "source": []
  },
  {
   "cell_type": "code",
   "execution_count": null,
   "metadata": {},
   "outputs": [],
   "source": []
  },
  {
   "cell_type": "code",
   "execution_count": null,
   "metadata": {},
   "outputs": [],
   "source": []
  },
  {
   "cell_type": "code",
   "execution_count": 26,
   "metadata": {},
   "outputs": [
    {
     "name": "stdout",
     "output_type": "stream",
     "text": [
      "build called\n",
      "WARNING:tensorflow:From /Users/michaelsprintson/Documents/nosync.nosync/pfnet/cust_rnn.py:49: calling Zeros.__init__ (from tensorflow.python.ops.init_ops) with dtype is deprecated and will be removed in a future version.\n",
      "Instructions for updating:\n",
      "Call initializer instance with the dtype argument instead of passing it to the constructor\n"
     ]
    },
    {
     "name": "stderr",
     "output_type": "stream",
     "text": [
      "2022-11-28 01:15:43.595829: W tensorflow/c/c_api.cc:291] Operation '{name:'basic_rnn_cell/bias/Assign' id:3841 op device:{requested: '', assigned: ''} def:{{{node basic_rnn_cell/bias/Assign}} = AssignVariableOp[_has_manual_control_dependencies=true, dtype=DT_FLOAT, validate_shape=false](basic_rnn_cell/bias, basic_rnn_cell/bias/Initializer/zeros)}}' was changed by setting attribute after it was run by a session. This mutation will have no effect, and will trigger an error in the future. Either don't modify nodes after running them or create a new session.\n"
     ]
    }
   ],
   "source": [
    "X = tf.keras.Input(dtype = tf.float32, shape = (n_windows, n_input), batch_size=10)\n",
    "y = tf.keras.Input(dtype = tf.float32, shape = (n_windows, n_output), batch_size=10)\n",
    "# X = tf.placeholder(tf.float32, [None, n_windows, n_input])   \n",
    "# y = tf.placeholder(tf.float32, [None, n_windows, n_output])\n",
    "\n",
    "basic_cell = BasicRNNCell(r_neuron, activation=tf.nn.relu) \n",
    "# basic_cell = tf.compat.v1.nn.rnn_cell.BasicRNNCell(r_neuron, activation=tf.nn.relu) \n",
    "\n",
    "# rnn_output, states = tf.nn.dynamic_rnn(basic_cell, X, dtype=tf.float32)              \n",
    "rnn_output, states = tf.keras.layers.RNN(cell = basic_cell, dtype = tf.float32, return_sequences=True, return_state=True)(inputs = X)\n",
    "stacked_rnn_output = tf.reshape(rnn_output, [-1, r_neuron])          \n",
    "stacked_outputs = tf.keras.layers.Dense(n_output)(stacked_rnn_output)\n",
    "outputs = tf.reshape(stacked_outputs, [-1, n_windows, n_output])"
   ]
  },
  {
   "cell_type": "code",
   "execution_count": 29,
   "metadata": {},
   "outputs": [],
   "source": [
    "learning_rate = 0.001  \n",
    " \n",
    "loss = tf.reduce_sum(tf.square(outputs - y))    \n",
    "optimizer = tf.compat.v1.train.AdamOptimizer(learning_rate=learning_rate) \n",
    "training_op = optimizer.minimize(loss) "
   ]
  },
  {
   "cell_type": "code",
   "execution_count": 30,
   "metadata": {},
   "outputs": [
    {
     "name": "stdout",
     "output_type": "stream",
     "text": [
      "0 \tMSE: 132830424.0\n",
      "150 \tMSE: 638157.3\n",
      "300 \tMSE: 382417.94\n",
      "450 \tMSE: 231434.75\n",
      "600 \tMSE: 200921.19\n",
      "750 \tMSE: 194064.5\n",
      "900 \tMSE: 188443.75\n",
      "1050 \tMSE: 183559.31\n",
      "1200 \tMSE: 182908.45\n",
      "1350 \tMSE: 176724.03\n"
     ]
    }
   ],
   "source": [
    "init = tf.compat.v1.global_variables_initializer() \n",
    "iteration = 1500 \n",
    "\n",
    "with tf.compat.v1.Session() as sess:\n",
    "    init.run()\n",
    "    for iters in range(iteration):\n",
    "        sess.run(training_op, feed_dict={X: X_batches, y: y_batches})\n",
    "        if iters % 150 == 0:\n",
    "            mse = loss.eval(feed_dict={X: X_batches, y: y_batches})\n",
    "            print(iters, \"\\tMSE:\", mse)\n",
    "    \n",
    "    y_pred = sess.run(outputs, feed_dict={X: X_test})"
   ]
  },
  {
   "cell_type": "code",
   "execution_count": 31,
   "metadata": {},
   "outputs": [
    {
     "name": "stderr",
     "output_type": "stream",
     "text": [
      "/var/folders/1_/_n_tsfn5339_d17486wc50nw0000gn/T/ipykernel_44421/2606641324.py:2: UserWarning: color is redundantly defined by the 'color' keyword argument and the fmt string \"bo\" (-> color='b'). The keyword argument will take precedence.\n",
      "  plt.plot(pd.Series(np.ravel(y_test)), \"bo\", markersize=8, label=\"Actual\", color='green')\n",
      "/var/folders/1_/_n_tsfn5339_d17486wc50nw0000gn/T/ipykernel_44421/2606641324.py:3: UserWarning: color is redundantly defined by the 'color' keyword argument and the fmt string \"r.\" (-> color='r'). The keyword argument will take precedence.\n",
      "  plt.plot(pd.Series(np.ravel(y_pred)), \"r.\", markersize=8, label=\"Forecast\", color='red')\n"
     ]
    },
    {
     "data": {
      "image/png": "[encoded data removed]",
      "text/plain": [
       "<Figure size 640x480 with 1 Axes>"
      ]
     },
     "metadata": {},
     "output_type": "display_data"
    }
   ],
   "source": [
    "plt.title(\"Forecast vs Actual\", fontsize=14)\n",
    "plt.plot(pd.Series(np.ravel(y_test)), \"bo\", markersize=8, label=\"Actual\", color='green')\n",
    "plt.plot(pd.Series(np.ravel(y_pred)), \"r.\", markersize=8, label=\"Forecast\", color='red')\n",
    "plt.legend(loc=\"lower left\")\n",
    "plt.xlabel(\"Time\")\n",
    "\n",
    "plt.show()"
   ]
  },
  {
   "cell_type": "code",
   "execution_count": null,
   "metadata": {},
   "outputs": [],
   "source": []
  }
 ],
 "metadata": {
  "kernelspec": {
   "display_name": "Python 3.8.3 ('pfenv': venv)",
   "language": "python",
   "name": "python3"
  },
  "language_info": {
   "codemirror_mode": {
    "name": "ipython",
    "version": 3
   },
   "file_extension": ".py",
   "mimetype": "text/x-python",
   "name": "python",
   "nbconvert_exporter": "python",
   "pygments_lexer": "ipython3",
   "version": "3.8.3"
  },
  "orig_nbformat": 4,
  "vscode": {
   "interpreter": {
    "hash": "c9557a0cd5eb7c1d4de8530d9aaae31518345071516817119c60ddcfe84006e6"
   }
  }
 },
 "nbformat": 4,
 "nbformat_minor": 2
}
